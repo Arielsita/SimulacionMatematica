{
 "cells": [
  {
   "cell_type": "code",
   "execution_count": 3,
   "metadata": {},
   "outputs": [],
   "source": [
    "%matplotlib inline\n",
    "\n",
    "import matplotlib.pylab as plt\n",
    "import numpy as np\n",
    "from sympy import *\n",
    "import pandas as pd\n",
    "from scipy import stats"
   ]
  },
  {
   "cell_type": "code",
   "execution_count": 5,
   "metadata": {},
   "outputs": [
    {
     "name": "stdout",
     "output_type": "stream",
     "text": [
      "Monto inicial: $10000 pesos.\n",
      "Pedí prestado: $1000.0 pesos.\n",
      "Invertí: $11000.0 pesos.\n",
      "Termine con: $12320.0 pesos.\n",
      "Pago prestamo: $1050.0 pesos.\n",
      "Monto Finalal: $11270.0 pesos.\n",
      "Rendimiento: $12.7 %.\n"
     ]
    }
   ],
   "source": [
    "MontoInicial = 10000\n",
    "TasaPrestamo = 0.10 #20%\n",
    "Prestamo = MontoInicial*TasaPrestamo\n",
    "TasaInteres = 0.05 #5%\n",
    "\n",
    "#Disponible para invertir en el SP500\n",
    "MontoDisponible = MontoInicial+Prestamo\n",
    "#Rendimiento Bolsa (SP500) es 12%\n",
    "Rendimiento = 0.12\n",
    "\n",
    "#Pago de prestamo\n",
    "SubTotal = Rendimiento*MontoDisponible +MontoDisponible\n",
    "PagoPrestamo = Prestamo + TasaInteres* Prestamo #Pagar\n",
    "\n",
    "#Monto final (Despues de pagar prestamo)\n",
    "MontoFinal = SubTotal - PagoPrestamo\n",
    "\n",
    "#Tasa Rendimiento inversion\n",
    "Rendimiento = (MontoFinal- MontoInicial)/MontoInicial\n",
    "#13% porciento de rendimiento \n",
    "\n",
    "print (\"Monto inicial: $\"+str(MontoInicial)+\" pesos.\" )\n",
    "print (\"Pedí prestado: $\"+str(Prestamo)+\" pesos.\" )\n",
    "print (\"Invertí: $\"+str(MontoDisponible)+\" pesos.\" )\n",
    "print (\"Termine con: $\"+str(SubTotal)+\" pesos.\" )\n",
    "print (\"Pago prestamo: $\"+str(PagoPrestamo)+\" pesos.\" )\n",
    "print (\"Monto Finalal: $\"+str(MontoFinal)+\" pesos.\" )\n",
    "print (\"Rendimiento: $\"+str(Rendimiento*100)+\" %.\" )"
   ]
  },
  {
   "cell_type": "code",
   "execution_count": null,
   "metadata": {
    "collapsed": true
   },
   "outputs": [],
   "source": [
    "# prestamo del 10% con una perdida de rendimiento del -0.30"
   ]
  },
  {
   "cell_type": "code",
   "execution_count": 6,
   "metadata": {},
   "outputs": [
    {
     "name": "stdout",
     "output_type": "stream",
     "text": [
      "Monto inicial: $10000 pesos.\n",
      "Pedí prestado: $1000.0 pesos.\n",
      "Invertí: $11000.0 pesos.\n",
      "Termine con: $7700.0 pesos.\n",
      "Pago prestamo: $1050.0 pesos.\n",
      "Monto Finalal: $6650.0 pesos.\n",
      "Rendimiento: $-33.5 %.\n"
     ]
    }
   ],
   "source": [
    "MontoInicial = 10000\n",
    "TasaPrestamo = 0.10 #20%\n",
    "Prestamo = MontoInicial*TasaPrestamo\n",
    "TasaInteres = 0.05 #5%\n",
    "\n",
    "#Disponible para invertir en el SP500\n",
    "MontoDisponible = MontoInicial+Prestamo\n",
    "#Rendimiento Bolsa (SP500) es 12%\n",
    "Rendimiento = -0.30\n",
    "\n",
    "#Pago de prestamo\n",
    "SubTotal = Rendimiento*MontoDisponible +MontoDisponible\n",
    "PagoPrestamo = Prestamo + TasaInteres* Prestamo #Pagar\n",
    "\n",
    "#Monto final (Despues de pagar prestamo)\n",
    "MontoFinal = SubTotal - PagoPrestamo\n",
    "\n",
    "#Tasa Rendimiento inversion\n",
    "Rendimiento = (MontoFinal- MontoInicial)/MontoInicial\n",
    "#13% porciento de rendimiento \n",
    "\n",
    "print (\"Monto inicial: $\"+str(MontoInicial)+\" pesos.\" )\n",
    "print (\"Pedí prestado: $\"+str(Prestamo)+\" pesos.\" )\n",
    "print (\"Invertí: $\"+str(MontoDisponible)+\" pesos.\" )\n",
    "print (\"Termine con: $\"+str(SubTotal)+\" pesos.\" )\n",
    "print (\"Pago prestamo: $\"+str(PagoPrestamo)+\" pesos.\" )\n",
    "print (\"Monto Finalal: $\"+str(MontoFinal)+\" pesos.\" )\n",
    "print (\"Rendimiento: $\"+str(Rendimiento*100)+\" %.\" )"
   ]
  },
  {
   "cell_type": "code",
   "execution_count": 7,
   "metadata": {},
   "outputs": [
    {
     "name": "stdout",
     "output_type": "stream",
     "text": [
      "Monto inicial: $10000 pesos.\n",
      "Pedí prestado: $5000.0 pesos.\n",
      "Invertí: $15000.0 pesos.\n",
      "Termine con: $10500.0 pesos.\n",
      "Pago prestamo: $5250.0 pesos.\n",
      "Monto Finalal: $5250.0 pesos.\n",
      "Rendimiento: $-47.5 %.\n"
     ]
    }
   ],
   "source": [
    "MontoInicial = 10000\n",
    "TasaPrestamo = 0.5 #20%\n",
    "Prestamo = MontoInicial*TasaPrestamo\n",
    "TasaInteres = 0.05 #5%\n",
    "\n",
    "#Disponible para invertir en el SP500\n",
    "MontoDisponible = MontoInicial+Prestamo\n",
    "#Rendimiento Bolsa (SP500) es 12%\n",
    "Rendimiento = -0.30\n",
    "\n",
    "#Pago de prestamo\n",
    "SubTotal = Rendimiento*MontoDisponible +MontoDisponible\n",
    "PagoPrestamo = Prestamo + TasaInteres* Prestamo #Pagar\n",
    "\n",
    "#Monto final (Despues de pagar prestamo)\n",
    "MontoFinal = SubTotal - PagoPrestamo\n",
    "\n",
    "#Tasa Rendimiento inversion\n",
    "Rendimiento = (MontoFinal- MontoInicial)/MontoInicial\n",
    "#13% porciento de rendimiento \n",
    "\n",
    "print (\"Monto inicial: $\"+str(MontoInicial)+\" pesos.\" )\n",
    "print (\"Pedí prestado: $\"+str(Prestamo)+\" pesos.\" )\n",
    "print (\"Invertí: $\"+str(MontoDisponible)+\" pesos.\" )\n",
    "print (\"Termine con: $\"+str(SubTotal)+\" pesos.\" )\n",
    "print (\"Pago prestamo: $\"+str(PagoPrestamo)+\" pesos.\" )\n",
    "print (\"Monto Finalal: $\"+str(MontoFinal)+\" pesos.\" )\n",
    "print (\"Rendimiento: $\"+str(Rendimiento*100)+\" %.\" )"
   ]
  },
  {
   "cell_type": "code",
   "execution_count": null,
   "metadata": {
    "collapsed": true
   },
   "outputs": [],
   "source": []
  },
  {
   "cell_type": "code",
   "execution_count": 10,
   "metadata": {},
   "outputs": [
    {
     "name": "stdout",
     "output_type": "stream",
     "text": [
      "Monto inicial: $10000 pesos.\n",
      "Pedí prestado: $3000.0 pesos.\n",
      "Invertí: $13000.0 pesos.\n",
      "Termine con: $10532.308826571734 pesos.\n",
      "Pago prestamo: $3150.0 pesos.\n",
      "Monto Finalal: $7382.308826571734 pesos.\n",
      "Rendimiento: $-26.17691173428266 %.\n"
     ]
    }
   ],
   "source": [
    "MontoInicial = 10000 #Variable de decision. Yo decido cuanto dinero invertir\n",
    "TasaPrestamo = 0.3 #Variable de decision. Yo le digo al broker cuanto quiero pedir\n",
    "Prestamo = MontoInicial*TasaPrestamo\n",
    "TasaInteres = 0.05 #5% Variable fija\n",
    "\n",
    "#Disponible para invertir en el SP500\n",
    "MontoDisponible = MontoInicial+Prestamo\n",
    "#Rendimiento Bolsa (SP500) es 12%\n",
    "Rendimiento = np.random.normal(.12,.20)\n",
    "\n",
    "#Pago de prestamo\n",
    "SubTotal = Rendimiento*MontoDisponible +MontoDisponible\n",
    "PagoPrestamo = Prestamo + TasaInteres* Prestamo #Pagar\n",
    "\n",
    "#Monto final (Despues de pagar prestamo)\n",
    "MontoFinal = SubTotal - PagoPrestamo\n",
    "\n",
    "#Tasa Rendimiento inversion\n",
    "Rendimiento = (MontoFinal- MontoInicial)/MontoInicial\n",
    "#13% porciento de rendimiento \n",
    "\n",
    "print (\"Monto inicial: $\"+str(MontoInicial)+\" pesos.\" )\n",
    "print (\"Pedí prestado: $\"+str(Prestamo)+\" pesos.\" )\n",
    "print (\"Invertí: $\"+str(MontoDisponible)+\" pesos.\" )\n",
    "print (\"Termine con: $\"+str(SubTotal)+\" pesos.\" )\n",
    "print (\"Pago prestamo: $\"+str(PagoPrestamo)+\" pesos.\" )\n",
    "print (\"Monto Finalal: $\"+str(MontoFinal)+\" pesos.\" )\n",
    "print (\"Rendimiento: $\"+str(Rendimiento*100)+\" %.\" )"
   ]
  },
  {
   "cell_type": "code",
   "execution_count": 9,
   "metadata": {},
   "outputs": [
    {
     "data": {
      "text/plain": [
       "<matplotlib.text.Text at 0xdfe0303cc0>"
      ]
     },
     "execution_count": 9,
     "metadata": {},
     "output_type": "execute_result"
    },
    {
     "data": {
      "image/png": "[encoded data removed]",
      "text/plain": [
       "<matplotlib.figure.Figure at 0xdfe0450390>"
      ]
     },
     "metadata": {},
     "output_type": "display_data"
    }
   ],
   "source": [
    "plt.hist(np.random.normal(.12,.20,10000),normed=True,bins=100);\n",
    "plt.ylabel('Probabilidad')\n",
    "plt.xlabel('Valores')\n",
    "#print(\"99% de los rendimientos\"+ str (.12-3*.2))"
   ]
  },
  {
   "cell_type": "code",
   "execution_count": 18,
   "metadata": {
    "collapsed": true
   },
   "outputs": [],
   "source": [
    "def SP500():\n",
    "    MontoInicial = 10000 #Variable de decision. Yo decido cuanto dinero invertir\n",
    "    TasaPrestamo = 0.8 #Variable de decision. Yo le digo al broker cuanto quiero pedir\n",
    "    Prestamo = MontoInicial*TasaPrestamo\n",
    "    TasaInteres = 0.05 #5% Variable fija\n",
    "\n",
    "    #Disponible para invertir en el SP500\n",
    "    MontoDisponible = MontoInicial+Prestamo\n",
    "\n",
    "    #Rendimiento Bolsa (SP500) es 12%\n",
    "    #El rendimiento de la bolsa es algo que no puedo controlar\n",
    "    Rendimiento = np.random.normal(.12,.20)\n",
    "\n",
    "    #Pago de prestamo\n",
    "    SubTotal = Rendimiento*MontoDisponible +MontoDisponible\n",
    "    PagoPrestamo = Prestamo + TasaInteres* Prestamo #Pagar\n",
    "\n",
    "    #Monto final (Despues de pagar prestamo)\n",
    "    MontoFinal = SubTotal - PagoPrestamo\n",
    "\n",
    "    #Tasa Rendimiento inversion\n",
    "    Rendimiento = (MontoFinal- MontoInicial)/MontoInicial\n",
    "    #13% porciento de rendimiento \n",
    "\n",
    "    #13% porciento de rendimiento \n",
    "    return Rendimiento"
   ]
  },
  {
   "cell_type": "code",
   "execution_count": 24,
   "metadata": {},
   "outputs": [
    {
     "name": "stdout",
     "output_type": "stream",
     "text": [
      "Rendimiento promedio: 18.1495883301%\n",
      "Rendimiento tiene una volatilidad: 36.2702671977%\n"
     ]
    }
   ],
   "source": [
    "N=10000\n",
    "Rendimientos = np.zeros(N)\n",
    "\n",
    "for i,j in enumerate (Rendimientos):\n",
    "    Rendimientos[i] = SP500()\n",
    "    \n",
    "print (\"Rendimiento promedio: \"+str(np.mean(Rendimientos)*100)+\"%\")\n",
    "print (\"Rendimiento tiene una volatilidad: \"+str(np.std(Rendimientos)*100)+\"%\")"
   ]
  },
  {
   "cell_type": "code",
   "execution_count": 25,
   "metadata": {},
   "outputs": [
    {
     "data": {
      "image/png": "[encoded data removed]",
      "text/plain": [
       "<matplotlib.figure.Figure at 0xdfe0debfd0>"
      ]
     },
     "metadata": {},
     "output_type": "display_data"
    }
   ],
   "source": [
    "plt.hist(Rendimientos,normed=True,bins=100);"
   ]
  },
  {
   "cell_type": "code",
   "execution_count": 27,
   "metadata": {},
   "outputs": [
    {
     "name": "stdout",
     "output_type": "stream",
     "text": [
      "Rendimiento promedio: 17.7760364981%\n",
      "Rendimiento tiene una volatilidad: 36.3185630127%\n"
     ]
    },
    {
     "data": {
      "text/html": [
       "<div>\n",
       "<style>\n",
       "    .dataframe thead tr:only-child th {\n",
       "        text-align: right;\n",
       "    }\n",
       "\n",
       "    .dataframe thead th {\n",
       "        text-align: left;\n",
       "    }\n",
       "\n",
       "    .dataframe tbody tr th {\n",
       "        vertical-align: top;\n",
       "    }\n",
       "</style>\n",
       "<table border=\"1\" class=\"dataframe\">\n",
       "  <thead>\n",
       "    <tr style=\"text-align: right;\">\n",
       "      <th></th>\n",
       "      <th>0</th>\n",
       "      <th>1</th>\n",
       "    </tr>\n",
       "  </thead>\n",
       "  <tbody>\n",
       "    <tr>\n",
       "      <th>68%</th>\n",
       "      <td>-0.185425</td>\n",
       "      <td>0.540946</td>\n",
       "    </tr>\n",
       "    <tr>\n",
       "      <th>95%</th>\n",
       "      <td>-0.548611</td>\n",
       "      <td>0.904132</td>\n",
       "    </tr>\n",
       "    <tr>\n",
       "      <th>99%</th>\n",
       "      <td>-0.911797</td>\n",
       "      <td>1.267317</td>\n",
       "    </tr>\n",
       "  </tbody>\n",
       "</table>\n",
       "</div>"
      ],
      "text/plain": [
       "            0         1\n",
       "68% -0.185425  0.540946\n",
       "95% -0.548611  0.904132\n",
       "99% -0.911797  1.267317"
      ]
     },
     "execution_count": 27,
     "metadata": {},
     "output_type": "execute_result"
    },
    {
     "data": {
      "image/png": "[encoded data removed]",
      "text/plain": [
       "<matplotlib.figure.Figure at 0xdfe1218f28>"
      ]
     },
     "metadata": {},
     "output_type": "display_data"
    }
   ],
   "source": [
    "N=10000\n",
    "Rendimientos = np.zeros(N)\n",
    "\n",
    "for i,j in enumerate (Rendimientos):\n",
    "    Rendimientos[i] = SP500()\n",
    "    \n",
    "print (\"Rendimiento promedio: \"+str(np.mean(Rendimientos)*100)+\"%\")\n",
    "print (\"Rendimiento tiene una volatilidad: \"+str(np.std(Rendimientos)*100)+\"%\")\n",
    "plt.hist(Rendimientos,normed=True,bins=100)\n",
    "#(68.5%, 95% y 99.5%), intervalos de confianza\n",
    "u = np.mean(Rendimientos)\n",
    "std = np.std(Rendimientos)\n",
    "df = pd.DataFrame([ [u-std,u+std], [u-2*std,u+2*std], [u-3*std,u+3*std] ])\n",
    "df.index=[\"68%\", \"95%\", \"99%\"]\n",
    "df"
   ]
  },
  {
   "cell_type": "code",
   "execution_count": null,
   "metadata": {
    "collapsed": true
   },
   "outputs": [],
   "source": []
  }
 ],
 "metadata": {
  "kernelspec": {
   "display_name": "Python 3",
   "language": "python",
   "name": "python3"
  },
  "language_info": {
   "codemirror_mode": {
    "name": "ipython",
    "version": 3
   },
   "file_extension": ".py",
   "mimetype": "text/x-python",
   "name": "python",
   "nbconvert_exporter": "python",
   "pygments_lexer": "ipython3",
   "version": "3.6.1"
  }
 },
 "nbformat": 4,
 "nbformat_minor": 2
}
